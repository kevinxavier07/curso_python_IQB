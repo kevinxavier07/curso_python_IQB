{
 "cells": [
  {
   "cell_type": "markdown",
   "id": "3fbfeae7-1d57-49b8-900e-4121f040f684",
   "metadata": {},
   "source": [
    "## Módulo 1"
   ]
  },
  {
   "cell_type": "markdown",
   "id": "28a79e62-d4bd-4a46-be70-74cca8c6eadf",
   "metadata": {},
   "source": [
    "### **`Variables`** en Python"
   ]
  },
  {
   "cell_type": "markdown",
   "id": "55bbf796-500f-468b-8e01-1d483c003c5e",
   "metadata": {},
   "source": [
    "Las variables son útiles porque nos permiten reutilizar datos en diferentes partes del programa y hacer cálculos o tomar decisiones en función de los valores que almacenan. Veamos algunos ejemplos."
   ]
  },
  {
   "cell_type": "code",
   "execution_count": null,
   "id": "48fcd2c0-50ec-4805-967e-9b04d36232c3",
   "metadata": {
    "collapsed": true,
    "jupyter": {
     "outputs_hidden": true,
     "source_hidden": true
    },
    "scrolled": true
   },
   "outputs": [],
   "source": [
    "# Uso básico de variables\n",
    "base = 17\n",
    "altura = 3\n",
    "area = base * altura / 2\n",
    "print(\"El área del triángulo es:\", area)"
   ]
  },
  {
   "cell_type": "markdown",
   "id": "25b71c7d-016b-4bb2-807f-1731a9511647",
   "metadata": {},
   "source": [
    "Es posible actualizar el valor de una <i>variable</i> en <u>cualquier momento</u>, y el nuevo valor reemplazará al anterior. Por ejemplo:"
   ]
  },
  {
   "cell_type": "code",
   "execution_count": null,
   "id": "e72d35b2-1d94-4c76-b50d-96e00f173663",
   "metadata": {
    "collapsed": true,
    "jupyter": {
     "outputs_hidden": true,
     "source_hidden": true
    }
   },
   "outputs": [],
   "source": [
    "# Del ejercicio anterior\n",
    "area_float = float(area)\n",
    "print(\"El área del triángulo es:\", area_float)"
   ]
  },
  {
   "cell_type": "code",
   "execution_count": null,
   "id": "770bb143-f8ff-4ecc-9e76-5108ac9aa3df",
   "metadata": {
    "collapsed": true,
    "jupyter": {
     "outputs_hidden": true,
     "source_hidden": true
    }
   },
   "outputs": [],
   "source": [
    "x = 10\n",
    "print(\"Valor inicial de x:\", x)\n",
    "\n",
    "x = x + 5  # Actualiza el valor de x\n",
    "print(\"Valor actualizado de x:\", x)"
   ]
  },
  {
   "cell_type": "markdown",
   "id": "a5e4ad59-a003-44f2-a245-bbc3abca2235",
   "metadata": {},
   "source": [
    "Siempre es <b>altamente recomendable</b> utilizar nombres de variables que reflejen su propósito."
   ]
  },
  {
   "cell_type": "markdown",
   "id": "70b8bda0-70c2-4e41-abda-b51124c0c52a",
   "metadata": {},
   "source": [
    "### **`Markdown`**"
   ]
  },
  {
   "cell_type": "markdown",
   "id": "c7261956-0c30-4939-a513-0783a4a6ee90",
   "metadata": {},
   "source": [
    "#### **`float`** e **`int`**\n",
    "\n",
    "En programación, las principales diferencias entre float e int están relacionadas con el tipo de datos que representan y cómo manejan los números. Aquí hay una comparación clara.\n",
    "\n",
    "| **Aspecto**    | **`int`**   | **`float`**  |\n",
    "|-|-|-|\n",
    "| **Definición**        | Representa números enteros sin decimales. | Representa números con punto decimal (números reales). |\n",
    "| **Precisión**         | Exacto, no tiene parte fraccionaria. | Aproximado, puede tener errores por redondeo. |\n",
    "| **Rango de valores**  | Depende del sistema, pero puede manejar números grandes. | Puede representar números más grandes y más pequeños, pero con limitaciones en la precisión. |\n",
    "| **Uso**              | Para conteos, índices o valores discretos (e.g., 1, 100, -3). | Para cálculos con números fraccionarios o con decimales (e.g., 3.14, -2.7). |\n",
    "| **Operaciones**       | Suma, resta, multiplicación exactas. | Suma, resta, multiplicación, división, pero la división genera `float`. |\n",
    "| **Tamaño en memoria** | Menor que `float` (en la mayoría de los lenguajes). | Mayor que `int`, ya que almacena más información. |\n",
    "| **Ejemplo**           | `int`: 5, -3, 42                   | `float`: 5.0, -3.14, 0.001       |"
   ]
  },
  {
   "cell_type": "markdown",
   "id": "6f1b7f0f-654f-4c45-8901-c7fd49b176ca",
   "metadata": {},
   "source": [
    "#### Probemos algunos ejemplos:"
   ]
  },
  {
   "cell_type": "code",
   "execution_count": null,
   "id": "12d29255-d8f7-4548-a38b-b468121a7d61",
   "metadata": {
    "collapsed": true,
    "jupyter": {
     "outputs_hidden": true,
     "source_hidden": true
    }
   },
   "outputs": [],
   "source": [
    "# Del ejercicio anterior\n",
    "area_int = int(area)\n",
    "print(\"El área del triángulo es:\", area_int)"
   ]
  },
  {
   "cell_type": "code",
   "execution_count": null,
   "id": "db41b8a4-3825-45a5-a999-7ed6159619aa",
   "metadata": {
    "collapsed": true,
    "jupyter": {
     "outputs_hidden": true,
     "source_hidden": true
    }
   },
   "outputs": [],
   "source": [
    "precio_producto = 150.75\n",
    "cantidad = 3\n",
    "total = precio_producto * cantidad\n",
    "print(\"El total es:\", total)"
   ]
  },
  {
   "cell_type": "markdown",
   "id": "da139f8e-0431-4afa-8ed6-aa7535334c59",
   "metadata": {},
   "source": [
    "### **`Funciones`** en Python"
   ]
  },
  {
   "cell_type": "code",
   "execution_count": null,
   "id": "0b36a83e-9a4f-4b0f-9676-a1973a7abc65",
   "metadata": {
    "collapsed": true,
    "jupyter": {
     "outputs_hidden": true,
     "source_hidden": true
    }
   },
   "outputs": [],
   "source": [
    "def producto(a,b):\n",
    "    return a*b\n",
    "result = producto(5,3)\n",
    "print(\"El resultado es:\", result)"
   ]
  },
  {
   "cell_type": "markdown",
   "id": "09074dbd-1504-419f-a261-59fbbfccd099",
   "metadata": {},
   "source": [
    "### **`Librerías`**"
   ]
  },
  {
   "cell_type": "markdown",
   "id": "a8afe157-96b5-4259-aa8a-75efcd04d1b7",
   "metadata": {},
   "source": [
    "#### Estructura de Librerías, Módulos y Funciones en Python\n",
    "\n",
    "| Concepto  | Definición  | Ejemplo  |\n",
    "|-----------|------------|----------|\n",
    "| **Librería**  | Un conjunto de módulos que proporcionan funcionalidades específicas en Python. | NumPy |\n",
    "| **Módulo**  | Un archivo de Python que contiene definiciones y funciones relacionadas. | numpy.linalg |\n",
    "| **Función**  | Un bloque de código reutilizable que realiza una tarea específica. | numpy.mean() |\n"
   ]
  },
  {
   "cell_type": "code",
   "execution_count": null,
   "id": "825a1079-936c-4dca-9027-e759b7e9a04b",
   "metadata": {
    "collapsed": true,
    "jupyter": {
     "outputs_hidden": true,
     "source_hidden": true
    }
   },
   "outputs": [],
   "source": [
    "import math as ma\n",
    "radio = 5\n",
    "area = ma.pi * ma.pow(radio, 2)\n",
    "print(\"El área del círculo es:\", area)"
   ]
  },
  {
   "cell_type": "code",
   "execution_count": null,
   "id": "aa0bf082-6e03-4ffc-a02e-c2a4d9020ff3",
   "metadata": {
    "collapsed": true,
    "jupyter": {
     "outputs_hidden": true,
     "source_hidden": true
    }
   },
   "outputs": [],
   "source": [
    "import pandas as pd\n",
    "data = {\"Nombre\": [\"Ana\", \"Luis\"], \"Edad\": [25, 30] , \"Cédula\": [912120, 109201]}\n",
    "df = pd.DataFrame(data)\n",
    "print(df)"
   ]
  },
  {
   "cell_type": "code",
   "execution_count": null,
   "id": "079f68c3-c961-4a79-8c0d-b7d9170a1724",
   "metadata": {
    "collapsed": true,
    "jupyter": {
     "outputs_hidden": true,
     "source_hidden": true
    }
   },
   "outputs": [],
   "source": [
    "import numpy as np\n",
    "Mtrz_a = np.array([1,2,3])\n",
    "Mtrz_b = np.linspace(1,10,10)\n",
    "valor_c = np.log(22.212)\n",
    "valor_d = np.log10(22.212)\n",
    "\n",
    "print(\"Los valores de la matriz a son:\",Mtrz_a)\n",
    "print(\"Los valores de la matriz b son:\",Mtrz_b)\n",
    "print(\"El logaritmo natural del valor c es:\",valor_c)\n",
    "print(\"El logaritmo base 10 del valor c es:\",valor_d)"
   ]
  },
  {
   "cell_type": "code",
   "execution_count": null,
   "id": "b4befdf0-9402-4ee5-bc20-a1fc4b342905",
   "metadata": {
    "collapsed": true,
    "jupyter": {
     "outputs_hidden": true,
     "source_hidden": true
    }
   },
   "outputs": [],
   "source": [
    "import matplotlib.pyplot as plt\n",
    "import numpy as np\n",
    "\n",
    "x = np.linspace(0,10,100)\n",
    "y = np.sin(x)\n",
    "z = np.cos(x)\n",
    "\n",
    "plt.plot(x,y,'b',x,z,'r')\n",
    "plt.xlabel('X');\n",
    "plt.ylabel('Y');\n",
    "plt.title('Plotting Demonstration')\n",
    "plt.legend(['Sin','Cos'])\n",
    "plt.grid()"
   ]
  },
  {
   "cell_type": "markdown",
   "id": "a2c0dea5-4382-432b-94db-afae7e0751d0",
   "metadata": {},
   "source": [
    "#### Para resolver cáclulos más complejos, por ejemplo evaluemos la siguiente integral:\n",
    "\n",
    "$ \\int_{1}^{3} x^2 dx $"
   ]
  },
  {
   "cell_type": "code",
   "execution_count": null,
   "id": "3ac2914e-ca44-42c9-8df5-1b76a14916e9",
   "metadata": {
    "collapsed": true,
    "jupyter": {
     "outputs_hidden": true,
     "source_hidden": true
    }
   },
   "outputs": [],
   "source": [
    "from sympy import Symbol,integrate\n",
    "x = Symbol('x')\n",
    "integral = integrate(x**2,x)\n",
    "print(integral)"
   ]
  },
  {
   "cell_type": "code",
   "execution_count": null,
   "id": "bbcb88eb-f0ee-4f13-aaeb-c1f52209f3e8",
   "metadata": {
    "collapsed": true,
    "jupyter": {
     "outputs_hidden": true,
     "source_hidden": true
    }
   },
   "outputs": [],
   "source": [
    "from scipy import integrate\n",
    "resultado = integrate.quad(lambda x: x**2,1,3)\n",
    "print(resultado)\n",
    "\n",
    "#Las funciones *lambda* o anónimas son un tipo de funciones en Python \n",
    "#que típicamente se definen en una línea y cuyo código a ejecutar suele ser pequeño. "
   ]
  },
  {
   "cell_type": "markdown",
   "id": "7ac5b2db-ee63-4628-91b0-53fa7207dba8",
   "metadata": {},
   "source": [
    "#### Probemos ahora calculando el calor requerido para transformar 1 mol de cloro gas desde 305 K hasta 500 K.\n",
    "En este caso utilizamos la siguiente expresión:\n",
    "\n",
    "$ Q = n\\cdot \\int_{T_i}^{T_f} C_p(T) \\cdot dT $"
   ]
  },
  {
   "cell_type": "code",
   "execution_count": null,
   "id": "f4a10153-49da-4ac5-ab07-4a67e20b15ed",
   "metadata": {
    "collapsed": true,
    "jupyter": {
     "outputs_hidden": true,
     "source_hidden": true
    }
   },
   "outputs": [],
   "source": [
    "from sympy import symbols, integrate\n",
    "\n",
    "Const = (22.85, 0.06543, -1.2517E-4, 1.1484E-7)\n",
    "\n",
    "n  = 0.5\n",
    "T1 = 305\n",
    "T2 = 500\n",
    "\n",
    "T = symbols('T') \n",
    "Cp_fun = Const[0] + Const[1]*T + Const[2]*T**2 + Const[3]*T**3\n",
    "\n",
    "Cp_res = integrate(Cp_fun, (T, T1, T2))\n",
    "\n",
    "Q = n * Cp_res\n",
    "\n",
    "#print(Q)\n",
    "print(f\"El calor requerido es de: {Q:.2f} J\")"
   ]
  },
  {
   "cell_type": "code",
   "execution_count": null,
   "id": "63ec12c3-1303-424a-94f0-59a9509fb7ae",
   "metadata": {
    "collapsed": true,
    "jupyter": {
     "outputs_hidden": true,
     "source_hidden": true
    }
   },
   "outputs": [],
   "source": [
    "from scipy.integrate import quad\n",
    "import numpy as np\n",
    "\n",
    "Const = np.array([22.85, 0.06543, -1.2517E-4, 1.1484E-7])\n",
    "\n",
    "n  = 0.5\n",
    "T1 = 305\n",
    "T2 = 500\n",
    "\n",
    "def Cp_fun(T):\n",
    "    return Const[0] + Const[1]*T + Const[2]*T**2 + Const[3]*T**3\n",
    "\n",
    "Cp_res,_ = quad(Cp_fun,T1,T2)\n",
    "\n",
    "Q = n*Cp_res\n",
    "\n",
    "#print(Q)\n",
    "print(f\"El calor requerido es de: {Q:.2f} J\")"
   ]
  },
  {
   "cell_type": "markdown",
   "id": "d2ff9de3-1000-4c10-8e98-d22c53199d16",
   "metadata": {},
   "source": [
    "#### Podemos mostrar los resultados obtenidos de forma gráfica."
   ]
  },
  {
   "cell_type": "code",
   "execution_count": null,
   "id": "2550b0a4-c68d-4e09-962c-8ede9f92729b",
   "metadata": {
    "collapsed": true,
    "jupyter": {
     "outputs_hidden": true,
     "source_hidden": true
    }
   },
   "outputs": [],
   "source": [
    "import numpy as np\n",
    "import matplotlib.pyplot as plt\n",
    "\n",
    "x = [1,2,4,5]\n",
    "y = [2,3,6,12]\n",
    "#x = np.linspace(1,10,40)\n",
    "#y = np.log(x)\n",
    "\n",
    "#print(x[1])\n",
    "plt.plot(x,y)\n",
    "plt.grid()\n",
    "plt.show()\n",
    "#plt.savefig('fig1.png', format='png',transparent=True)"
   ]
  },
  {
   "cell_type": "markdown",
   "id": "7d710738-33a1-4c46-a534-72d4c72e0e24",
   "metadata": {},
   "source": [
    "#### Librerías exclusivas para reacciones químicas."
   ]
  },
  {
   "cell_type": "code",
   "execution_count": null,
   "id": "f1f72a5e-1d60-487d-bd03-496caeada02e",
   "metadata": {
    "collapsed": true,
    "jupyter": {
     "outputs_hidden": true,
     "source_hidden": true
    }
   },
   "outputs": [],
   "source": [
    "from chempy import balance_stoichiometry\n",
    "from pprint import pprint\n",
    "\n",
    "# Especificar reactivos y productos\n",
    "reactives = {'CH4', 'O2'}\n",
    "products  = {'CO2', 'H2O'}\n",
    "\n",
    "reac, prod = balance_stoichiometry(reactives,products)\n",
    "pprint(dict(reac))\n",
    "pprint(dict(prod))"
   ]
  },
  {
   "cell_type": "code",
   "execution_count": null,
   "id": "47ad03d3-d8cd-4c8a-b278-a0f91c1ce01d",
   "metadata": {
    "collapsed": true,
    "jupyter": {
     "outputs_hidden": true,
     "source_hidden": true
    }
   },
   "outputs": [],
   "source": [
    "from periodictable import formula\n",
    "\n",
    "# Fórmulas químicas\n",
    "glucosa = formula(\"C6H12O6\")\n",
    "oxigeno = formula(\"O2\")\n",
    "dioxido_carbono = formula(\"CO2\")\n",
    "agua = formula(\"H2O\")\n",
    "\n",
    "# Calcular pesos moleculares\n",
    "pm_glucosa = glucosa.mass\n",
    "pm_oxigeno = oxigeno.mass\n",
    "pm_dioxido_carbono = dioxido_carbono.mass\n",
    "pm_agua = agua.mass\n",
    "\n",
    "print(f\"Peso molecular de la glucosa: {pm_glucosa:.2f} g/mol\")\n",
    "print(f\"Peso molecular del oxígeno: {pm_oxigeno:.2f} g/mol\")\n",
    "print(f\"Peso molecular del dióxido de carbono: {pm_dioxido_carbono:.2f} g/mol\")\n",
    "print(f\"Peso molecular del agua: {pm_agua:.2f} g/mol\")"
   ]
  },
  {
   "cell_type": "markdown",
   "id": "a28d24b9-9d84-46cf-be50-fa98e86c8148",
   "metadata": {},
   "source": [
    "### Ciclos **`for`** \n",
    "\n",
    "Se utilizan para <b>iterar</b> sobre una secuencia, como listas, cadenas, tuplas, diccionarios, conjuntos o incluso rangos numéricos."
   ]
  },
  {
   "cell_type": "code",
   "execution_count": null,
   "id": "758134d2-3e28-4ba4-a94a-17319ed20ad0",
   "metadata": {
    "collapsed": true,
    "jupyter": {
     "outputs_hidden": true,
     "source_hidden": true
    }
   },
   "outputs": [],
   "source": [
    "frutas = [\"manzana\", \"naranja\", \"banana\", \"pera\"]\n",
    "\n",
    "for fruta in frutas:\n",
    "    print(f\"Me gusta la {fruta}\")"
   ]
  },
  {
   "cell_type": "code",
   "execution_count": null,
   "id": "675cc619-ea45-460f-83a3-1e76157b64b8",
   "metadata": {
    "collapsed": true,
    "jupyter": {
     "outputs_hidden": true,
     "source_hidden": true
    }
   },
   "outputs": [],
   "source": [
    "frutas = [\"manzana\", \"naranja\", \"banana\", \"pera\"]\n",
    "sabor = [\"caramelo\", \"chocolate\", \"azucar\", \"sal\"]\n",
    "\n",
    "# Usar zip para combinar ambas listas\n",
    "for fruta, sabor in zip(frutas, sabor):\n",
    "    print(f\"Me gusta la {fruta} con {sabor}\")"
   ]
  },
  {
   "cell_type": "code",
   "execution_count": null,
   "id": "0b10df5b-d9b2-48fc-83ee-a839ed82fb86",
   "metadata": {
    "collapsed": true,
    "jupyter": {
     "outputs_hidden": true,
     "source_hidden": true
    }
   },
   "outputs": [],
   "source": [
    "for i in range(1, 6):  # Itera desde 1 hasta 5\n",
    "    print(f\"El número actual es: {i}\")"
   ]
  },
  {
   "cell_type": "code",
   "execution_count": null,
   "id": "3e078141-0336-4d0d-900e-170463ae13f8",
   "metadata": {
    "collapsed": true,
    "jupyter": {
     "outputs_hidden": true,
     "source_hidden": true
    }
   },
   "outputs": [],
   "source": [
    "n1 = [1,2,4,6]\n",
    "n2 = [2,4,7,9]\n",
    "\n",
    "# Usar zip para combinar ambas listas\n",
    "for nn1, nn2 in zip(n1,n2):\n",
    "    res = nn1+nn2\n",
    "    print(f\"El resultado de {nn1} sumando con {nn2} es {res}\")"
   ]
  },
  {
   "cell_type": "code",
   "execution_count": null,
   "id": "80b49265-1114-4e74-9f70-c6ca20608bb7",
   "metadata": {
    "collapsed": true,
    "jupyter": {
     "outputs_hidden": true,
     "source_hidden": true
    }
   },
   "outputs": [],
   "source": [
    "estudiantes = {\"Ana\": 85, \"Luis\": 90, \"Carla\": 95}\n",
    "\n",
    "for nombre, calificacion in estudiantes.items():\n",
    "    print(f\"{nombre} obtuvo una calificación de {calificacion}\")"
   ]
  },
  {
   "cell_type": "code",
   "execution_count": null,
   "id": "a185dcab-92d6-48c4-b2fb-dc37bb045d32",
   "metadata": {
    "collapsed": true,
    "jupyter": {
     "outputs_hidden": true,
     "source_hidden": true
    }
   },
   "outputs": [],
   "source": [
    "numeros = [1, 2, 3, 4, 5]\n",
    "\n",
    "# Buscamos un número impar sin usar %\n",
    "for numero in numeros:\n",
    "    if numero // 2 != numero / 2:  # Si la división entera y la división real son diferentes\n",
    "        print(f\"Se encontró un número impar: {numero}\")\n",
    "        #break\n",
    "#else:\n",
    "    if numero // 2 == numero / 2: \n",
    "        print(f\"se encontró número par: {numero}\")"
   ]
  },
  {
   "cell_type": "code",
   "execution_count": null,
   "id": "41632e40-cb1a-44e9-89a1-3156c2ab9c05",
   "metadata": {
    "collapsed": true,
    "jupyter": {
     "outputs_hidden": true,
     "source_hidden": true
    }
   },
   "outputs": [],
   "source": [
    "n1 = [1,2,4,6]\n",
    "n2 = [2,4,7,9]\n",
    "\n",
    "# Usar zip para combinar ambas listas\n",
    "for nn1, nn2 in zip(n1,n2):\n",
    "    res = nn1+nn2\n",
    "    if res % 2 != 0:\n",
    "        print(f\"Se encontró un número impar: {res}\")\n",
    "        break\n",
    "else:\n",
    "    print(\"No se encontró ningún número impar.\") "
   ]
  },
  {
   "cell_type": "markdown",
   "id": "89ac9c10-97ae-475e-8dcd-3771a8761b08",
   "metadata": {},
   "source": [
    "#### Ahora vamos a elaborar un pequeño programa"
   ]
  },
  {
   "cell_type": "code",
   "execution_count": null,
   "id": "ff71d854-de14-47fc-82d2-f23851f8e597",
   "metadata": {
    "collapsed": true,
    "jupyter": {
     "outputs_hidden": true,
     "source_hidden": true
    }
   },
   "outputs": [],
   "source": [
    "def suma_ponderada(valores, pesos):\n",
    "    # Validar que las listas tienen el mismo tamaño\n",
    "    if len(valores) != len(pesos):\n",
    "        return \"Error: Las listas de valores y pesos deben tener el mismo tamaño.\"\n",
    "    # Calcular el promedio ponderado\n",
    "    suma_ponderada = 0\n",
    "    for valor, peso in zip(valores, pesos):\n",
    "        suma_ponderada += valor * peso \n",
    "    return suma_ponderada\n",
    "\n",
    "# Listas de valores y pesos\n",
    "valores = [85, 90, 78, 92]\n",
    "pesos = [0.2, 0.3, 0.1, 0.4]\n",
    "\n",
    "# Llamar a la función\n",
    "resultado = suma_ponderada(valores, pesos)\n",
    "\n",
    "# Mostrar el resultado\n",
    "print(f\"La suma ponderada es: {resultado}\")"
   ]
  }
 ],
 "metadata": {
  "kernelspec": {
   "display_name": "Python 3 (ipykernel)",
   "language": "python",
   "name": "python3"
  },
  "language_info": {
   "codemirror_mode": {
    "name": "ipython",
    "version": 3
   },
   "file_extension": ".py",
   "mimetype": "text/x-python",
   "name": "python",
   "nbconvert_exporter": "python",
   "pygments_lexer": "ipython3",
   "version": "3.8.12"
  }
 },
 "nbformat": 4,
 "nbformat_minor": 5
}
