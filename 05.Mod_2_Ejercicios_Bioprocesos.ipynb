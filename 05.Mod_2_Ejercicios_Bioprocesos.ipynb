{
 "cells": [
  {
   "cell_type": "markdown",
   "id": "58a3ef70",
   "metadata": {},
   "source": [
    "### Módulo 2: Ejercicios [Bioprocesos]\n",
    "\n",
    "La producción de proteína de seres unicelulares a partir de hexadecano se describe mediante la siguiente ecuación:\n",
    "\n",
    "$$ C_{16}H_{34} + O_2 + NH_3 \\rightarrow CH_{1.66}O_{0.27}N_{0.20} + CO_2 + H_2O $$\n",
    "\n",
    "Donde $CH_{1.66}O_{0.27}N_{0.20}$ representa la biomasa. Si el coeficiente de respiración, $RQ = \\frac{\\text{moles de}\\ CO_2\\ \\text{producidos}}{\\text{moles de}\\ O_2\\ \\text{consumidos}}$ es igual a 0.43. Determine los coeficientes estequiométricos de la reacción."
   ]
  },
  {
   "cell_type": "markdown",
   "id": "2bfad7a9-9c11-4e5b-8883-44fa5906003f",
   "metadata": {},
   "source": [
    "Vamos a proceder a resolver este problema aplicando el método algebraico, para lo cual:\n",
    "\n",
    "**1.** Definimos variables a cada especie:\n",
    "\n",
    "$$ aC_{16}H_{34} + bO_2 + cNH_3 \\rightarrow dCH_{1.66}O_{0.27}N_{0.20} + eCO_2 + fH_2O $$\n",
    "\n",
    "**2.** Identificamos cada una de las especies para plantear el sistema de ecuaciones:\n",
    "\n",
    "$C: 16a = d + e$ \n",
    "\n",
    "$H: 34a + 3c = 1.66d + 2f$\n",
    "\n",
    "$O: 2b = 0.27d + 2e + f$\n",
    "\n",
    "$N: c = 0.20d$\n",
    "\n",
    "$a = 1 \\rightarrow$ **Definido arbitrariamente**\n",
    "\n",
    "Adicionalmente se sabe que:\n",
    "\n",
    "$0.43 = \\frac{e}{b}$"
   ]
  },
  {
   "cell_type": "code",
   "execution_count": null,
   "id": "b6b21b66",
   "metadata": {},
   "outputs": [],
   "source": [
    "from sympy import symbols, Eq, solve\n",
    "import pandas as pd"
   ]
  },
  {
   "cell_type": "markdown",
   "id": "dc35e9c9",
   "metadata": {},
   "source": [
    "Definimos las ecuaciones"
   ]
  },
  {
   "cell_type": "code",
   "execution_count": null,
   "id": "a30500e9-541d-4ad7-9695-c2b913512f6b",
   "metadata": {},
   "outputs": [],
   "source": [
    "a,b,c,d,e,f = symbols('a b c d e f')\n",
    "\n",
    "#Sitemas de ecuaciones\n",
    "eqn1 = Eq(16*a, d + e)\n",
    "eqn2 = Eq(34*a + 3*c,1.66*d + 2*f)\n",
    "eqn3 = Eq(2*b,0.27*d + 2*e + f)\n",
    "eqn4 = Eq(c,0.20*d)\n",
    "eqn5 = Eq(a,1)\n",
    "eqn6 = Eq(0.43,e/b)\n",
    "\n",
    "Eqs = (eqn1,eqn2,eqn3,eqn4,eqn5,eqn6)\n",
    "cof = (a,b,c,d,e,f)"
   ]
  },
  {
   "cell_type": "markdown",
   "id": "12aa2f49",
   "metadata": {},
   "source": [
    "Utilizamos la función _solve_ para resolver el sistema de ecuaciones."
   ]
  },
  {
   "cell_type": "code",
   "execution_count": null,
   "id": "f993e651",
   "metadata": {},
   "outputs": [],
   "source": [
    "solution = solve(Eqs,cof)\n",
    "#print(solution)"
   ]
  },
  {
   "cell_type": "code",
   "execution_count": null,
   "id": "d065370c-9fd5-4bf8-8d5e-cc794f5a348f",
   "metadata": {},
   "outputs": [],
   "source": [
    "coeficientes = [a,b,c,d,e,f]\n",
    "print(\"Los resultados se muestran a continuación:\\n\")\n",
    "for key in coeficientes:\n",
    "    values = float(solution[key])\n",
    "    print(f\"El coeficiente {key} es: {values:.2f}\")"
   ]
  },
  {
   "cell_type": "markdown",
   "id": "dffb98b2-e063-4803-9c5a-b1fde60e54c7",
   "metadata": {},
   "source": [
    "### Exportar resultados\n",
    "Vamos a exportar los resultados de este ejercicio para obtener un archivo excel o CSV."
   ]
  },
  {
   "cell_type": "code",
   "execution_count": null,
   "id": "ef4f4c8c-38ee-442a-a80b-bcb370bfc719",
   "metadata": {},
   "outputs": [],
   "source": [
    "# Crear el DataFrame\n",
    "df = pd.DataFrame(list(solution.items()), columns=[\"Coeficiente\", \"Resultado\"],\n",
    "                 index = [\"Hexadodecano\", \"O2\", \"NH3\", \"Proteína\", \"CO2\", \"H2O\"])\n",
    "\n",
    "# Mostrar el DataFrame\n",
    "print(df)\n",
    "\n",
    "# Guardar el DataFrame como un archivo Excel o CSV\n",
    "#df.to_excel(\"resultados.xlsx\",index=True, index_label=\"Descripción\")\n",
    "#df.to_csv(\"resultados.csv\", index=False)"
   ]
  }
 ],
 "metadata": {
  "kernelspec": {
   "display_name": "Python 3 (ipykernel)",
   "language": "python",
   "name": "python3"
  },
  "language_info": {
   "codemirror_mode": {
    "name": "ipython",
    "version": 3
   },
   "file_extension": ".py",
   "mimetype": "text/x-python",
   "name": "python",
   "nbconvert_exporter": "python",
   "pygments_lexer": "ipython3",
   "version": "3.8.12"
  }
 },
 "nbformat": 4,
 "nbformat_minor": 5
}
