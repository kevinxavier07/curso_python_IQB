{
 "cells": [
  {
   "cell_type": "markdown",
   "id": "58a3ef70",
   "metadata": {},
   "source": [
    "## Módulo 2: Importación y limpieza de datos"
   ]
  },
  {
   "cell_type": "markdown",
   "id": "5169b181-b459-457e-9789-340504817863",
   "metadata": {
    "editable": true,
    "slideshow": {
     "slide_type": ""
    },
    "tags": []
   },
   "source": [
    "### Importación de datos"
   ]
  },
  {
   "cell_type": "markdown",
   "id": "2bfad7a9-9c11-4e5b-8883-44fa5906003f",
   "metadata": {},
   "source": [
    "#### Cargar datos desde un archivo excel\n",
    "\n",
    "Vamos a proceder a importar datos obtenidos a partir de un experimento. Para esto utilizaremos las siguientes librerías:"
   ]
  },
  {
   "cell_type": "code",
   "execution_count": null,
   "id": "b6b21b66",
   "metadata": {},
   "outputs": [],
   "source": [
    "import pandas as pd\n",
    "import matplotlib.pyplot as plt"
   ]
  },
  {
   "cell_type": "code",
   "execution_count": null,
   "id": "4d71729d-90f8-4ec2-85d6-439b0408bfaa",
   "metadata": {
    "editable": true,
    "slideshow": {
     "slide_type": ""
    },
    "tags": []
   },
   "outputs": [],
   "source": [
    "# Cargar los datos desde el archivo Excel\n",
    "archivo_excel = \"datos_excel/experimentos.xlsx\"\n",
    "datos = pd.read_excel(archivo_excel,sheet_name=\"hoja1\")"
   ]
  },
  {
   "cell_type": "code",
   "execution_count": null,
   "id": "d6003a7c-af64-4762-adfe-7fba1b914e47",
   "metadata": {
    "editable": true,
    "slideshow": {
     "slide_type": ""
    },
    "tags": []
   },
   "outputs": [],
   "source": [
    "# Mostrar las primeras filas del archivo para verificar\n",
    "print(datos.head())"
   ]
  },
  {
   "cell_type": "code",
   "execution_count": null,
   "id": "700c1b39-b64a-4c4a-a8d5-c391a43d7b51",
   "metadata": {},
   "outputs": [],
   "source": [
    "# Extraer columnas específicas\n",
    "tiempo = datos[\"Tiempo (horas)\"]\n",
    "luz_blanca = datos[\"Luz Blanca\"]\n",
    "luz_roja = datos[\"Luz Roja\"]\n",
    "luz_azul = datos[\"Luz Azul\"]\n",
    "\n",
    "#print(luz_blanca)\n",
    "#print(tiempo[3])"
   ]
  },
  {
   "cell_type": "code",
   "execution_count": null,
   "id": "8eb66832-04de-40bf-93dc-20036f67d807",
   "metadata": {},
   "outputs": [],
   "source": [
    "# Graficar los datos\n",
    "plt.figure(figsize=(8, 6))\n",
    "plt.plot(tiempo, luz_blanca, label=\"Luz Blanca\", marker=\"o\")\n",
    "plt.plot(tiempo, luz_roja, label=\"Luz Roja\", marker=\"s\")\n",
    "plt.plot(tiempo, luz_azul, label=\"Luz Azul\", marker=\"^\")\n",
    "plt.legend()\n",
    "plt.show()"
   ]
  },
  {
   "cell_type": "code",
   "execution_count": null,
   "id": "8cf4133b-d108-4c10-959c-4f75ca601795",
   "metadata": {},
   "outputs": [],
   "source": [
    "# Graficar los datos y configurar\n",
    "plt.figure(figsize=(6, 5))\n",
    "plt.plot(tiempo, luz_blanca, label=\"Luz Blanca\", marker=\"o\", color=\"gray\")\n",
    "plt.plot(tiempo, luz_roja, label=\"Luz Roja\", marker=\"s\",color=\"red\")\n",
    "plt.plot(tiempo, luz_azul, label=\"Luz Azul\", marker=\"^\",color=\"blue\")\n",
    "\n",
    "# Configuración de la gráfica\n",
    "plt.xlabel(\"Tiempo (horas)\")\n",
    "plt.ylabel(\"Densidad Óptica (DO)\")\n",
    "plt.title(\"Crecimiento de Microalgas bajo Diferentes Condiciones de Luz\")\n",
    "#plt.legend()\n",
    "plt.grid(True)\n",
    "plt.show()"
   ]
  },
  {
   "cell_type": "markdown",
   "id": "f12787c2-bedd-43f6-b481-ce4b0cf2d339",
   "metadata": {},
   "source": [
    "### Limpieza de datos\n",
    "\n",
    "En esta sección vamos a manipular los datos que se encuentran en la segunda hoja del excel."
   ]
  },
  {
   "cell_type": "code",
   "execution_count": null,
   "id": "02c8cb51-a43e-4021-b391-f05c81da5451",
   "metadata": {},
   "outputs": [],
   "source": [
    "# Cargar los datos desde el archivo Excel (hoja 2)\n",
    "archivo_excel = \"datos_excel/experimentos.xlsx\"\n",
    "datos_2 = pd.read_excel(archivo_excel,sheet_name=\"hoja2\")\n",
    "\n",
    "# Mostrar los datos originales\n",
    "print(\"Datos originales:\\n\")\n",
    "print(datos_2)"
   ]
  },
  {
   "cell_type": "code",
   "execution_count": null,
   "id": "bb2cb68b-42e1-47bd-9294-e78791d9bbe0",
   "metadata": {},
   "outputs": [],
   "source": [
    "plt.figure(figsize=(8, 4))\n",
    "plt.plot(datos_2[\"pH\"], datos_2[\"Concentracion (U/mL)\"], marker='o', label='Datos originales')\n",
    "plt.xlabel(\"pH\")\n",
    "plt.ylabel(\"Concentracion (U/mL)\")\n",
    "plt.title(\"Actividad Enzimática vs pH\")\n",
    "plt.grid(True)\n",
    "plt.legend()\n",
    "plt.show()"
   ]
  },
  {
   "cell_type": "code",
   "execution_count": null,
   "id": "876dc210-9704-41cf-a5aa-13a9d4f38568",
   "metadata": {},
   "outputs": [],
   "source": [
    "#Eliminar filas duplicadas\n",
    "datos_2 = datos_2.drop_duplicates(subset='pH')\n",
    "print(\"Después de eliminar duplicados:\")\n",
    "print(datos_2)"
   ]
  },
  {
   "cell_type": "code",
   "execution_count": null,
   "id": "88b3e800-6bb9-4d60-bbb5-48a0718187b4",
   "metadata": {},
   "outputs": [],
   "source": [
    "# Manejar valores faltantes (rellenar con la media)\n",
    "datos_2[\"Concentracion (U/mL)\"] = datos_2[\"Concentracion (U/mL)\"].fillna(datos_2[\"Concentracion (U/mL)\"].mean())\n",
    "print(\"Después de manejar valores faltantes:\")\n",
    "print(datos_2)"
   ]
  },
  {
   "cell_type": "code",
   "execution_count": null,
   "id": "3865c2dc-7fa9-4a69-abb3-de8b0246be0c",
   "metadata": {},
   "outputs": [],
   "source": [
    "# Eliminar valores fuera de rango (outliers)\n",
    "# Suponemos que la actividad enzimática debe estar entre 0 y 35 U/mL\n",
    "datos_2 = datos_2[(datos_2[\"Concentracion (U/mL)\"] >= 0) & (datos_2[\"Concentracion (U/mL)\"] <= 35)]\n",
    "#print(\"Después de eliminar outliers:\")\n",
    "#print(datos_2)"
   ]
  },
  {
   "cell_type": "code",
   "execution_count": null,
   "id": "c9f03642-b0ba-41dc-b157-b2231eed4fb0",
   "metadata": {},
   "outputs": [],
   "source": [
    "# Normalizar la columna de actividad\n",
    "datos_2[\"Concentracion Normalizada\"] = datos_2[\"Concentracion (U/mL)\"] / datos_2[\"Concentracion (U/mL)\"].max()\n",
    "#print(\"Datos con actividad normalizada:\")\n",
    "#print(datos_2)"
   ]
  },
  {
   "cell_type": "markdown",
   "id": "bacd190e-ac75-491e-ab39-6a6508f2c346",
   "metadata": {},
   "source": [
    "### Guardar los resultados obtenidos en un nuevo archivo."
   ]
  },
  {
   "cell_type": "code",
   "execution_count": null,
   "id": "c5b4847a-5b1c-4577-8a6d-7e3aae79c4c2",
   "metadata": {},
   "outputs": [],
   "source": [
    "# Guardar los datos limpios en un nuevo archivo\n",
    "archivo_limpio = \"actividad_enzimatica_limpia.xlsx\"\n",
    "datos_2.to_excel(archivo_limpio, index=False)"
   ]
  },
  {
   "cell_type": "code",
   "execution_count": null,
   "id": "14593dc3-b8dd-4128-8aa5-c304093610c5",
   "metadata": {},
   "outputs": [],
   "source": [
    "plt.figure(figsize=(8, 4))\n",
    "plt.plot(datos_2[\"pH\"], datos_2[\"Concentracion (U/mL)\"], marker='o', label='Datos Limpios')\n",
    "plt.xlabel(\"pH\")\n",
    "plt.ylabel(\"Concentracion (U/mL)\")\n",
    "plt.title(\"Concentracion Enzimática vs pH\")\n",
    "plt.grid(True)\n",
    "plt.legend()\n",
    "plt.show()"
   ]
  }
 ],
 "metadata": {
  "kernelspec": {
   "display_name": "Python 3 (ipykernel)",
   "language": "python",
   "name": "python3"
  },
  "language_info": {
   "codemirror_mode": {
    "name": "ipython",
    "version": 3
   },
   "file_extension": ".py",
   "mimetype": "text/x-python",
   "name": "python",
   "nbconvert_exporter": "python",
   "pygments_lexer": "ipython3",
   "version": "3.8.12"
  }
 },
 "nbformat": 4,
 "nbformat_minor": 5
}
