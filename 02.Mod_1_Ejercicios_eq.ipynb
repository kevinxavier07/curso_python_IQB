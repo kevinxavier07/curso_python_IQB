{
 "cells": [
  {
   "cell_type": "markdown",
   "id": "58a3ef70",
   "metadata": {},
   "source": [
    "### Módulo 1: Ejercicios [Ecuaciones]\n",
    "\n",
    "Resolución de ecuaciones"
   ]
  },
  {
   "cell_type": "markdown",
   "id": "2bfad7a9-9c11-4e5b-8883-44fa5906003f",
   "metadata": {},
   "source": [
    "Vamos a proceder a resolver un sistema de ecuaciones 3 x 3, de acuerdo con el siguiente ejemplo:\n",
    "\n",
    "$$ x = y + 11.49 $$\n",
    "$$ x \\cdot 0.82 = y + 0.95 $$\n",
    "$$ z - 2 = y+ 0.23 $$"
   ]
  },
  {
   "cell_type": "code",
   "execution_count": null,
   "id": "b6b21b66",
   "metadata": {
    "jupyter": {
     "source_hidden": true
    }
   },
   "outputs": [],
   "source": [
    "from sympy import symbols, Eq, solve"
   ]
  },
  {
   "cell_type": "markdown",
   "id": "33c1df30",
   "metadata": {},
   "source": [
    "Definimos variables simbólicas utilizando la función *symbols*"
   ]
  },
  {
   "cell_type": "code",
   "execution_count": null,
   "id": "89f92575",
   "metadata": {
    "jupyter": {
     "source_hidden": true
    }
   },
   "outputs": [],
   "source": [
    "x, y, z = symbols('x y z')"
   ]
  },
  {
   "cell_type": "markdown",
   "id": "dc35e9c9",
   "metadata": {},
   "source": [
    "Definimos las ecuaciones"
   ]
  },
  {
   "cell_type": "code",
   "execution_count": null,
   "id": "c8fbfbba",
   "metadata": {
    "jupyter": {
     "source_hidden": true
    }
   },
   "outputs": [],
   "source": [
    "eqn1 = Eq(x, y + 11.49)\n",
    "eqn2 = Eq(x * 0.82, y * 0.95)\n",
    "eqn3 = Eq(z-2,y+23)"
   ]
  },
  {
   "cell_type": "markdown",
   "id": "12aa2f49",
   "metadata": {},
   "source": [
    "Utilizamos la función _solve_ para resolver el sistema de ecuaciones."
   ]
  },
  {
   "cell_type": "code",
   "execution_count": null,
   "id": "f993e651",
   "metadata": {
    "jupyter": {
     "source_hidden": true
    }
   },
   "outputs": [],
   "source": [
    "sol = solve([eqn1, eqn2, eqn3], (x, y, z))\n",
    "print(sol)"
   ]
  },
  {
   "cell_type": "code",
   "execution_count": null,
   "id": "118cb8b1",
   "metadata": {
    "jupyter": {
     "source_hidden": true
    }
   },
   "outputs": [],
   "source": [
    "Rx = float(sol[x])\n",
    "Ry = float(sol[y])\n",
    "Rz = float(sol[z])"
   ]
  },
  {
   "cell_type": "markdown",
   "id": "dff3bc62",
   "metadata": {},
   "source": [
    "Los resultados se muestran a continuación:"
   ]
  },
  {
   "cell_type": "code",
   "execution_count": null,
   "id": "925f3c92",
   "metadata": {
    "jupyter": {
     "source_hidden": true
    }
   },
   "outputs": [],
   "source": [
    "print(f'La variables x es igual a: {Rx:.2f}')\n",
    "print(f'La variables y es igual a: {Ry:.2f}')\n",
    "print(f'La variables z es igual a: {Rz:.2f}')"
   ]
  }
 ],
 "metadata": {
  "kernelspec": {
   "display_name": "Python 3 (ipykernel)",
   "language": "python",
   "name": "python3"
  },
  "language_info": {
   "codemirror_mode": {
    "name": "ipython",
    "version": 3
   },
   "file_extension": ".py",
   "mimetype": "text/x-python",
   "name": "python",
   "nbconvert_exporter": "python",
   "pygments_lexer": "ipython3",
   "version": "3.8.12"
  }
 },
 "nbformat": 4,
 "nbformat_minor": 5
}
