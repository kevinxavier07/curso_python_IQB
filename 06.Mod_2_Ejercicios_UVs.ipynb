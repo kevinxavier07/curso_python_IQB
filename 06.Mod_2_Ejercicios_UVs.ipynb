{
 "cells": [
  {
   "cell_type": "markdown",
   "id": "58a3ef70",
   "metadata": {},
   "source": [
    "### Módulo 2: Ejercicios [UV-Vis]\n",
    "\n",
    "Un equipo de investigadores realizó un experimento para determinar la relación entre la concentración de un compuesto orgánico y su absorbancia medida en un espectrofotómetro UV-visible. Los datos obtenidos, aunque prometedores, incluyen errores experimentales debido a un mal ajuste del equipo y distracciones humanas al anotar las mediciones. Además, algunos valores están incompletos o ausentes debido a un problema en la exportación del archivo del equipo.\n",
    "\n",
    "Como parte del equipo de análisis de datos, se te ha asignado la tarea de procesar esta información y obtener una curva de calibración confiable. Los datos obtenidos experimentalmente se encuentran en: **`datos_csv/datos_UV_VIS`**.\n",
    "\n",
    "Adicionalmente, se solicita determinar la concentración de la muestra cuando la Absorbancia da un resultado igual a 0.82 nm. Se sabe que longitud del portamuestra es igual a 1 cm."
   ]
  },
  {
   "cell_type": "code",
   "execution_count": null,
   "id": "b6b21b66",
   "metadata": {},
   "outputs": [],
   "source": [
    "import pandas as pd\n",
    "import numpy as np\n",
    "import matplotlib.pyplot as plt"
   ]
  },
  {
   "cell_type": "code",
   "execution_count": null,
   "id": "3eb4ea6d-ac5a-4bab-b116-d0a525837b8e",
   "metadata": {},
   "outputs": [],
   "source": [
    "# Cargar los datos desde el archivo CSV\n",
    "datos_exp = \"datos_csv/datos_UV_VIS.csv\"\n",
    "datos = pd.read_csv(datos_exp)\n",
    "\n",
    "# Mostrar filas del archivo para verificar\n",
    "print(datos.head())"
   ]
  },
  {
   "cell_type": "markdown",
   "id": "fc5adfd8-3158-4b32-a0cc-5cf0592a1c1b",
   "metadata": {},
   "source": [
    "Procedemos a limpiar los datos."
   ]
  },
  {
   "cell_type": "code",
   "execution_count": null,
   "id": "6ea2ac90-8a21-4f9b-bf09-b71ae5359837",
   "metadata": {},
   "outputs": [],
   "source": [
    "datos_exp = datos.dropna()\n",
    "print(\"Después de manejar valores faltantes:\\n\")\n",
    "print(datos_exp)"
   ]
  },
  {
   "cell_type": "code",
   "execution_count": null,
   "id": "e6f0f475-7418-417a-b79b-533dd17a3adb",
   "metadata": {},
   "outputs": [],
   "source": [
    "# Extraer columnas específicas\n",
    "Conc = datos_exp[\"Concentración (M)\"]\n",
    "Abs  = datos_exp[\"Absorbancia\"]"
   ]
  },
  {
   "cell_type": "markdown",
   "id": "17815048-a150-4da7-abb1-10c7e45903d5",
   "metadata": {},
   "source": [
    "Con lo cual podemos ver el siguiente gráfico:"
   ]
  },
  {
   "cell_type": "code",
   "execution_count": null,
   "id": "7e2e5bd8-5671-4903-b6e2-8ff09b9c5487",
   "metadata": {},
   "outputs": [],
   "source": [
    "# Graficar los datos\n",
    "plt.figure()\n",
    "plt.scatter(Conc,Abs,label=\"Resultados experimentales\")\n",
    "#plt.axhline(Abs.mean(), color='k', linestyle='--', linewidth=1)\n",
    "plt.xlabel(\"Concentración (M)\")\n",
    "plt.ylabel(\"Absorbancia\")\n",
    "plt.title(\"Resultados del UV-Vis\")\n",
    "plt.legend()\n",
    "plt.show()"
   ]
  },
  {
   "cell_type": "markdown",
   "id": "296b059b-f15d-4754-a3ea-cc634773ea33",
   "metadata": {},
   "source": [
    "#### Ajuste\n",
    "\n",
    "Procedemos a realizar el ajuste para aplicar la ley de Lambert-Beer.\n",
    "\n",
    "$$ A = \\epsilon \\cdot b\\cdot C$$"
   ]
  },
  {
   "cell_type": "code",
   "execution_count": null,
   "id": "bd123fae-a072-4111-9324-0e6beb7189d1",
   "metadata": {},
   "outputs": [],
   "source": [
    "# Ajuste lineal\n",
    "slope_01, intercept_01 = np.polyfit(Conc,Abs, 1)\n",
    "y_01 = np.polyval([slope_01, intercept_01], Conc)\n",
    "\n",
    "#R^2\n",
    "ss_total = ((Abs - Abs.mean()) ** 2).sum() #Suma total de los cuadrados\n",
    "ss_residual = ((Abs - y_01) ** 2).sum()    #Suma  de los cuadrados de los errores\n",
    "r2 = (ss_total - ss_residual)/(ss_total)\n",
    "#r2 = 1 - (ss_residual / ss_total)\n",
    "\n",
    "print(f\"R^2 es igual a {r2:.3f}\")"
   ]
  },
  {
   "cell_type": "code",
   "execution_count": null,
   "id": "194accf1-9fe0-47d2-b776-e1e17cf1900a",
   "metadata": {},
   "outputs": [],
   "source": [
    "# Gráfica con ajuste de datos\n",
    "plt.figure()\n",
    "plt.scatter(Conc,Abs, color='blue', label='Absorbancia')\n",
    "plt.plot(Conc,y_01, color='black', \n",
    "         label=f'Ajuste: y = {slope_01:.3f}x + {intercept_01:.3f}\\n$R^2$ = {r2:.3f}')\n",
    "plt.xlabel('Concentración (M)')\n",
    "plt.ylabel('Absorbancia (nm)')\n",
    "plt.title('Ajuste de datos experimentales')\n",
    "plt.legend()\n",
    "\n",
    "# Guardar el gráfico en formato TIFF\n",
    "#plt.savefig(\"Grafico_UV.tif\", format=\"tiff\", dpi=300)\n",
    "#plt.grid()\n",
    "plt.show()"
   ]
  },
  {
   "cell_type": "markdown",
   "id": "2fd52c90-1d20-47fb-a983-c7a94108423e",
   "metadata": {},
   "source": [
    "#### Determinación de concentración\n",
    "\n",
    "Para determinar la concentración desconocida, se utiliza la ecuación del ajuste y despejamos la concentración.\n",
    "\n",
    "$$ 0.82 = 0.741\\cdot 1\\cdot C + 0.06 $$\n",
    "\n",
    "$$ C = \\frac{0.82 - 0.06}{0.741}$$"
   ]
  },
  {
   "cell_type": "code",
   "execution_count": null,
   "id": "ef62fdb3-76f7-4e2c-b986-f32e394b577b",
   "metadata": {},
   "outputs": [],
   "source": [
    "dato_abs = 0.82\n",
    "Resp = (dato_abs - intercept_01)/slope_01\n",
    "print(f'La concentración desconocida corresponde a: {Resp:.2f} M')"
   ]
  }
 ],
 "metadata": {
  "kernelspec": {
   "display_name": "Python 3 (ipykernel)",
   "language": "python",
   "name": "python3"
  },
  "language_info": {
   "codemirror_mode": {
    "name": "ipython",
    "version": 3
   },
   "file_extension": ".py",
   "mimetype": "text/x-python",
   "name": "python",
   "nbconvert_exporter": "python",
   "pygments_lexer": "ipython3",
   "version": "3.8.12"
  }
 },
 "nbformat": 4,
 "nbformat_minor": 5
}
