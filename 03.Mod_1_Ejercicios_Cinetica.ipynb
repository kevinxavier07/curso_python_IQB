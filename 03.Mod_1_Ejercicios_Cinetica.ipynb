{
 "cells": [
  {
   "cell_type": "markdown",
   "id": "58a3ef70",
   "metadata": {},
   "source": [
    "### Módulo 1: Ejercicios [Ajuste lineal]\n",
    "\n",
    "Vamos a proceder a resolver un problema de cinética química."
   ]
  },
  {
   "cell_type": "markdown",
   "id": "2bfad7a9-9c11-4e5b-8883-44fa5906003f",
   "metadata": {},
   "source": [
    "En un reactor de laboratorio se está evaluando la degradación de un compuesto orgánico modelo ($C_A$), que representa la concentración de sustratos. El proceso de degradación fue monitoreado a lo largo del tiempo ($min$) y los datos obtenidos son los siguientes:\n",
    "\n",
    "| Tiempo (min) | Concentración ($C_A$) (mol/L) |\n",
    "|--------------|----------------------------------|\n",
    "| 0,5          | 1,02                             |\n",
    "| 1,0          | 0,84                             |\n",
    "| 1,5          | 0,69                             |\n",
    "| 3,0          | 0,38                             |\n",
    "| 5,0          | 0,17                             |\n",
    "\n",
    "### Objetivos\n",
    "1. **Determinar el orden de la reacción:** Usar los datos experimentales para ajustar la cinética de la reacción.\n",
    "2. **Calcular la concentración molar a los 3.5 minutos:** Usar la ecuación de velocidad integrada obtenida."
   ]
  },
  {
   "cell_type": "markdown",
   "id": "2885a30e-3fd2-4f30-bbfa-252bbbbb99b4",
   "metadata": {},
   "source": [
    "### Definimos las librerias que utilizaremos para resolver el problema."
   ]
  },
  {
   "cell_type": "code",
   "execution_count": null,
   "id": "b6b21b66",
   "metadata": {},
   "outputs": [],
   "source": [
    "import numpy as np\n",
    "import matplotlib.pyplot as plt"
   ]
  },
  {
   "cell_type": "markdown",
   "id": "33c1df30",
   "metadata": {},
   "source": [
    "Definimos las variables y sus valores numéricos."
   ]
  },
  {
   "cell_type": "code",
   "execution_count": null,
   "id": "89f92575",
   "metadata": {},
   "outputs": [],
   "source": [
    "Ca = np.array([1.02, 0.84, 0.69, 0.38, 0.17])  #mol/L\n",
    "t = np.array([0.5, 1, 1.5, 3, 5])  #min"
   ]
  },
  {
   "cell_type": "markdown",
   "id": "dc35e9c9",
   "metadata": {},
   "source": [
    "Para determinar el orden de la reacción vamos a considerar cinéticas de orden 1 y 2; es decir:\n",
    "\n",
    "$$ \\frac{dC_A}{dt} = - k\\cdot C_A \\rightarrow \\text{Primer orden} $$\n",
    "$$ \\frac{dC_A}{dt} = - k\\cdot C_A^2 \\rightarrow \\text{Segundo orden} $$\n",
    "\n",
    "La resolución numérica en ambos casos nos da:\n",
    "\n",
    "$$ \\ln C_{A,t} = -k\\cdot t + \\ln C_{A,0} \\rightarrow \\text{Primer orden}$$\n",
    "$$ \\frac{1}{C_{A,t}} = k\\cdot t + \\frac{1}{C_{A,0}} \\rightarrow \\text{Segundo orden}$$"
   ]
  },
  {
   "cell_type": "markdown",
   "id": "97b1b704-bb38-45fc-8379-1447e4bbd996",
   "metadata": {},
   "source": [
    "#### Gráfico preliminar"
   ]
  },
  {
   "cell_type": "code",
   "execution_count": null,
   "id": "9fc6f67c-4044-40c4-9f73-58f1e1959da2",
   "metadata": {},
   "outputs": [],
   "source": [
    "# Gráfica de la concentración original\n",
    "plt.figure()\n",
    "plt.title('Concentración vs Tiempo')\n",
    "plt.plot(t, Ca, 'd--', label='Datos experimentales')\n",
    "plt.xlabel('Tiempo (min)')\n",
    "plt.ylabel('C$_A$ (mol/L)')\n",
    "#plt.xlim((1,4.5))\n",
    "plt.grid()\n",
    "plt.legend()\n",
    "plt.show()"
   ]
  },
  {
   "cell_type": "code",
   "execution_count": null,
   "id": "c8fbfbba",
   "metadata": {},
   "outputs": [],
   "source": [
    "# Cálculos iniciales\n",
    "lnCa = np.log(Ca)  # Logaritmo natural de Ca\n",
    "inv_A = 1 / Ca     # Inverso de Ca"
   ]
  },
  {
   "cell_type": "markdown",
   "id": "12aa2f49",
   "metadata": {},
   "source": [
    "#### Ajuste de datos experimentales."
   ]
  },
  {
   "cell_type": "code",
   "execution_count": null,
   "id": "f993e651",
   "metadata": {},
   "outputs": [],
   "source": [
    "# Ajuste para orden 1 (ln(Ca) vs tiempo)\n",
    "slope_01, intercept_01 = np.polyfit(t, lnCa, 1)\n",
    "y_01 = np.polyval([slope_01, intercept_01], t)\n",
    "\n",
    "# Ajuste para orden 2 (1/Ca vs tiempo)\n",
    "slope_02, intercept_02 = np.polyfit(t, inv_A, 1)\n",
    "y_02 = np.polyval([slope_02, intercept_02], t)\n",
    "\n",
    "print(f'La pendiente para el ajuste de orden 1 es: {slope_01:.3f} 1/min')\n",
    "print(f'La pendiente para el ajuste de orden 2 es: {slope_02:.3f} L/(mol min)')"
   ]
  },
  {
   "cell_type": "markdown",
   "id": "fe7e2d95-1180-4775-8e59-7b18ef698c44",
   "metadata": {},
   "source": [
    "Realizamos el nuevo gráfico con el ajuste correspondiente."
   ]
  },
  {
   "cell_type": "code",
   "execution_count": null,
   "id": "118cb8b1",
   "metadata": {},
   "outputs": [],
   "source": [
    "# Gráfica para orden 1\n",
    "plt.figure()\n",
    "plt.scatter(t, lnCa, color='blue', label='Datos ln$C_A$')\n",
    "plt.plot(t, y_01, color='black', label=f'Ajuste: y = {slope_01:.3f}x + {intercept_01:.3f}')\n",
    "plt.xlabel('Tiempo (min)')\n",
    "plt.ylabel('ln[A]')\n",
    "plt.title('Reacción de Orden 1')\n",
    "plt.legend()\n",
    "#plt.grid()\n",
    "plt.show()\n",
    "\n",
    "# Gráfica para orden 2\n",
    "plt.figure()\n",
    "plt.scatter(t, inv_A, color='green', label='Datos 1/[A]')\n",
    "plt.plot(t, y_02, color='black', label=f'Ajuste: y = {slope_02:.3f}x + {intercept_02:.3f}')\n",
    "plt.xlabel('Tiempo (min)')\n",
    "plt.ylabel('1/[A]')\n",
    "plt.title('Reacción de Orden 2')\n",
    "plt.legend()\n",
    "#plt.grid()\n",
    "plt.show()"
   ]
  },
  {
   "cell_type": "markdown",
   "id": "d0621580-f4c3-4d06-bb0f-df6ae2b9f011",
   "metadata": {},
   "source": [
    "#### Resolucion de la concentración de Ca a los 3,5 min."
   ]
  },
  {
   "cell_type": "code",
   "execution_count": null,
   "id": "179cd481-67c2-476e-af0c-d0c457e375b0",
   "metadata": {},
   "outputs": [],
   "source": [
    "t = 3.5\n",
    "Ca0_t0 = np.exp(intercept_01) #Para calcular exactamente a t = 0\n",
    "Ca_t = np.exp(slope_01*t)*Ca0_t0 \n",
    "\n",
    "print(f'La concentración de Ca a t = 0 es {Ca0_t0:.3f} mol/L')\n",
    "print(f'La concentración a los {t} min es {Ca_t:.3f} mol/L')"
   ]
  },
  {
   "cell_type": "markdown",
   "id": "dff3bc62",
   "metadata": {},
   "source": [
    "#### Nota.\n",
    "##### En el caso se deseen ajustar polinomios de mayor orden."
   ]
  },
  {
   "cell_type": "code",
   "execution_count": null,
   "id": "925f3c92",
   "metadata": {},
   "outputs": [],
   "source": [
    "# Ajuste para orden n\n",
    "n = 2\n",
    "slope_03 = np.polyfit(t, Ca, n)\n",
    "poli = np.poly1d(slope_03)\n",
    "\n",
    "#poli = np.polyval(slope_03, 3)\n",
    "\n",
    "# Evaluación del polinomio ajustado\n",
    "x_fit = np.linspace(min(t), max(t), 25)  # Generar puntos para una curva suave\n",
    "y_fit = poli(x_fit)\n",
    "\n",
    "plt.figure()\n",
    "plt.scatter(t, Ca, color='blue', label='Datos experimentales')\n",
    "plt.plot(x_fit, y_fit, color='red', label=f'Ajuste (orden {n}):\\n{poli}')\n",
    "plt.title('Reacción de Orden n')\n",
    "plt.legend()\n",
    "#plt.grid()\n",
    "plt.show()"
   ]
  },
  {
   "cell_type": "markdown",
   "id": "4064277c-eb13-4ea7-a1a2-5c1543a8df14",
   "metadata": {},
   "source": [
    "### Respuesta\n",
    "**a)** Los datos se ajusten a una cinética de orden 1, obtiendo como resultado la ecuación del ajuste:\n",
    "\n",
    "$$ y = -0.399\\cdot x + 0.224 $$\n",
    "\n",
    "Es decir:\n",
    "\n",
    "$$ k = 0.399\\ min^{-1} $$\n",
    "$$ C_{A,0} = 1.2511 $$\n",
    "\n",
    "**b)** La concentración a los 200 segundos se calcula aplicando la fórmula:\n",
    "\n",
    "$$ \\ln C_{A,t} = -k\\cdot t + \\ln C_{A,0} $$\n",
    "$$ \\ln \\frac{C_{A,t}}{C_{A,0}} = -k\\cdot t $$\n",
    "\n",
    "Por lo tanto: \n",
    "\n",
    "$$C_{A,[3.5\\ min]} = e^{-k\\cdot t} \\cdot C_{A,0} $$\n",
    "$$ C_{A,[3.5\\ min]}= e^{-0.399\\cdot 3.5} \\cdot 1.2511 $$\n",
    "$$C_{A,[3.5\\ min]} = 0.32\\ mol/L$$"
   ]
  }
 ],
 "metadata": {
  "kernelspec": {
   "display_name": "Python 3 (ipykernel)",
   "language": "python",
   "name": "python3"
  },
  "language_info": {
   "codemirror_mode": {
    "name": "ipython",
    "version": 3
   },
   "file_extension": ".py",
   "mimetype": "text/x-python",
   "name": "python",
   "nbconvert_exporter": "python",
   "pygments_lexer": "ipython3",
   "version": "3.8.12"
  }
 },
 "nbformat": 4,
 "nbformat_minor": 5
}
